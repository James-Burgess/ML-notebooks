{
  "nbformat": 4,
  "nbformat_minor": 0,
  "metadata": {
    "colab": {
      "name": "hello",
      "provenance": [],
      "collapsed_sections": []
    },
    "kernelspec": {
      "name": "python3",
      "display_name": "Python 3"
    }
  },
  "cells": [
    {
      "cell_type": "markdown",
      "metadata": {
        "id": "6lYEeZpNR0sZ",
        "colab_type": "text"
      },
      "source": [
        "# The hello world of ml\n",
        "y = x^2 - 1"
      ]
    },
    {
      "cell_type": "code",
      "metadata": {
        "id": "d2r5m7s-Rolx",
        "colab_type": "code",
        "colab": {}
      },
      "source": [
        "# Collect deps.\n",
        "\n",
        "import tensorflow as tf\n",
        "import numpy as np\n",
        "from tensorflow import keras"
      ],
      "execution_count": null,
      "outputs": []
    },
    {
      "cell_type": "code",
      "metadata": {
        "id": "6B0prAcIR8iR",
        "colab_type": "code",
        "colab": {}
      },
      "source": [
        "# define the network\n",
        "# This creates one layer with one neuron\n",
        "\n",
        "model = tf.keras.Sequential([keras.layers.Dense(units=1, input_shape=[1])])"
      ],
      "execution_count": null,
      "outputs": []
    },
    {
      "cell_type": "code",
      "metadata": {
        "id": "4VlDFnR8SOco",
        "colab_type": "code",
        "colab": {}
      },
      "source": [
        "# Set up the model to use Stochastic gradient decent to optimize\n",
        "# and Mean squared error to work out the loss\n",
        "\n",
        "model.compile(optimizer='sgd', loss='mean_squared_error')"
      ],
      "execution_count": null,
      "outputs": []
    },
    {
      "cell_type": "code",
      "metadata": {
        "id": "ONqmNmILSifD",
        "colab_type": "code",
        "colab": {
          "base_uri": "https://localhost:8080/",
          "height": 34
        },
        "outputId": "089b7ac4-8dce-42af-c8a2-3f1e64ef5834"
      },
      "source": [
        "# Create the training data\n",
        "# y = x^2 - 1\n",
        "xs = np.array([-1.0,  0.0, 1.0, 2.0, 3.0, 4.0], dtype=float)\n",
        "ys = np.array([-3.0, -1.0, 1.0, 3.0, 5.0, 7.0], dtype=float)"
      ],
      "execution_count": null,
      "outputs": [
        {
          "output_type": "stream",
          "text": [
            "[-1.  0.  1.  2.  3.  4.]\n"
          ],
          "name": "stdout"
        }
      ]
    },
    {
      "cell_type": "code",
      "metadata": {
        "id": "AIOjWmPZSnqD",
        "colab_type": "code",
        "colab": {}
      },
      "source": [
        "# Train that bad boy 500 times\n",
        "model.fit(xs, ys, epochs=500)"
      ],
      "execution_count": null,
      "outputs": []
    },
    {
      "cell_type": "code",
      "metadata": {
        "id": "Yh8d8QyCStXC",
        "colab_type": "code",
        "colab": {
          "base_uri": "https://localhost:8080/",
          "height": 34
        },
        "outputId": "17d108ee-7054-4f49-c8cb-0cbaf0ee3343"
      },
      "source": [
        "# final testing, lets predict with an unknown value\n",
        "# we are expecting f(10) = 19 (x^2 - 1)\n",
        "print(model.predict([10.0]))"
      ],
      "execution_count": null,
      "outputs": [
        {
          "output_type": "stream",
          "text": [
            "[[18.98579]]\n"
          ],
          "name": "stdout"
        }
      ]
    }
  ]
}